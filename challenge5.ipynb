{
 "cells": [
  {
   "cell_type": "markdown",
   "metadata": {},
   "source": [
    "# CS 311 Challenge Problems #5"
   ]
  },
  {
   "cell_type": "markdown",
   "metadata": {},
   "source": [
    "## Problem 1\n",
    "Pebbles Game. Two players play a game, starting with three piles of n pebbles each. Players\n",
    "alternate turns. On each turn, a player may do one of the following:\n",
    "- take one pebble from any pile\n",
    "- take two pebbles each from two different piles\n",
    "\n",
    "The player who takes the last pebble(s) wins the game.\n",
    "\n",
    "Write an algorithm that, given n, determines whether the first player can “force” a win. That is, can the\n",
    "first player choose moves such that, regardless of what the other player does, they will always win.\n",
    "In addition, write a procedure that tells a player which move (if any) they should make to force a win given\n",
    "the current triple of pebbles in each pile.\n",
    "What is the complexity of your solution?"
   ]
  },
  {
   "cell_type": "markdown",
   "metadata": {},
   "source": [
    "### Algorithm"
   ]
  },
  {
   "cell_type": "code",
   "execution_count": null,
   "metadata": {},
   "outputs": [],
   "source": []
  },
  {
   "cell_type": "markdown",
   "metadata": {},
   "source": [
    "### Correctness"
   ]
  },
  {
   "cell_type": "markdown",
   "metadata": {},
   "source": []
  },
  {
   "cell_type": "markdown",
   "metadata": {},
   "source": [
    "### Runtime"
   ]
  },
  {
   "cell_type": "markdown",
   "metadata": {},
   "source": []
  },
  {
   "cell_type": "markdown",
   "metadata": {},
   "source": [
    "## Problem 2"
   ]
  },
  {
   "cell_type": "markdown",
   "metadata": {},
   "source": [
    "### Algorithm"
   ]
  },
  {
   "cell_type": "code",
   "execution_count": null,
   "metadata": {},
   "outputs": [],
   "source": [
    "def minDistance(message, a, b, k):\n",
    "    n = len(message)\n",
    "    dp = [[[float('inf') for x in range(k+1)] for y in range(k+1)] for z in range(n+1)] # initialize everything to infinity\n",
    "    dp[0][a][b] = 0 # base case\n",
    "\n",
    "    for i in range(1, n+1):\n",
    "        key = getKey(message[i-1])\n",
    "        for j in range(1, k+1):\n",
    "            for l in range(1, k+1):\n",
    "                # left thumb\n",
    "                dp[i][key][l] = min(dp[i][key][l], dp[i-1][j][l] + dist(j, key))\n",
    "                # right thumb\n",
    "                dp[i][j][key] = min(dp[i][j][key], dp[i-1][j][l] + dist(l, key))\n",
    "\n",
    "    return min(dp[n][i][j] for i in range(1, k+1) for j in range(1, k+1)) # return minimum value in the last row\n",
    "\n",
    "# helper functions\n",
    "def dist(i, j):\n",
    "    # calculates the distance between two keys i and j\n",
    "\n",
    "def getKey(char):\n",
    "    # returns the key that the character is on"
   ]
  },
  {
   "cell_type": "markdown",
   "metadata": {},
   "source": [
    "### Correctness"
   ]
  },
  {
   "cell_type": "markdown",
   "metadata": {},
   "source": [
    "We can define $OPT(i, j, k)$ as the minimum total distance to type the first $i$ characters (left thumb on $j$, right thumb on $k$).\n",
    "$OPT(i, j, k) = \\text{min}(OPT(i-1, j', k) + \\text{dist}(j', j), OPT(i-1, j, k') + \\text{dist}(k', k))$ where $j'$ and $k'$ represent the the position of the left/right thumbs at the last step.\n",
    "The base case holds as $OPT(0, a, b) = 0$ since you don't move your thumbs to type 0 characters.\n",
    "The final solution is $\\text{min}(OPT(n, j, k) \\text{ for all } j, k)$, the minimum total distance for the entire message.\n",
    "In this way, the algorithm computes the optimal solution of the problem from the optimal solution of the subproblems, and is therefore correct every step of the way."
   ]
  },
  {
   "cell_type": "markdown",
   "metadata": {},
   "source": [
    "### Runtime"
   ]
  },
  {
   "cell_type": "markdown",
   "metadata": {},
   "source": [
    "The runtime of this algorithm is $O(nk^2)$, the breakdown is as follows. In this algorithm we have three nested loops, the outer one (i loop) loops from 1 to n+1 for a total of n loops. Inside this loop there are two more loops that both go from 1 to k+1 for a total of k iterations in each. Therefore the total runtime is $n*k*k \\rightarrow O(nk^2)$"
   ]
  },
  {
   "cell_type": "markdown",
   "metadata": {},
   "source": [
    "## Problem 3"
   ]
  },
  {
   "cell_type": "markdown",
   "metadata": {},
   "source": [
    "### Algorithm"
   ]
  },
  {
   "cell_type": "code",
   "execution_count": null,
   "metadata": {},
   "outputs": [],
   "source": [
    "def assignVoters(voters, pollingLocations, r, C):\n",
    "    # voters: list of voters\n",
    "    # pollingLocations: list of polling locations\n",
    "    # r: maximum distance a voter can travel\n",
    "    # C: maximum number of voters per polling location\n",
    "    # return: true or false, indicating whether everyone can be assigned to a polling location\n",
    "\n",
    "    s = # initialize a source\n",
    "    t = # initialize a sink\n",
    "    G = # initialize a graph G with voters and polling locations as nodes, source s and sink t\n",
    "\n",
    "    for voter in voters:\n",
    "        # add an edge from the source to voter in G with capacity 1\n",
    "        for poll in pollingLocations:\n",
    "            # add an edge from poll to the sink in G with capacity C\n",
    "            if distance(voter, poll) <= r and numVoters(poll) < C:\n",
    "                constructEdge(voter, poll, G)\n",
    "    \n",
    "    flowValue = fordFulkerson(G, s, t)\n",
    "    return flowValue == len(voters)\n",
    "\n",
    "\n",
    "# Helper functions\n",
    "def distance(voter, poll):\n",
    "    # voter: a voter\n",
    "    # poll: a polling location\n",
    "    # return: the distance between the voter and the polling location\n",
    "\n",
    "def numVoters(poll):\n",
    "    # poll: a polling location\n",
    "    # return: the number of voters currently assigned to the polling location\n",
    "\n",
    "def constructEdge(voter, poll, G):\n",
    "    # voter: a voter\n",
    "    # poll: a polling location\n",
    "    # G: a graph\n",
    "    # return: None\n",
    "\n",
    "    # add an edge from voter to poll in G and increment capacity by 1\n",
    "\n",
    "def fordFulkerson(G, s ,t):\n",
    "    # G: a graph\n",
    "    # s: source\n",
    "    # t: sink\n",
    "    # return: the maximum flow in G"
   ]
  },
  {
   "cell_type": "markdown",
   "metadata": {},
   "source": [
    "### Correctness"
   ]
  },
  {
   "cell_type": "markdown",
   "metadata": {},
   "source": [
    "We will prove this algorithm by showing how the problem can be modeled as a maximum flow problem, and it is known that the Ford-Fulkerson algorithm correctly solves maximum flow problems.\n",
    "\n",
    "We model the problem by creating a bipartite graph, where we have two sets of nodes, voters and polling locations. The source has an edge of capacity 1 to all voters. We create an edge between a voter and a polling location if the voter is within r units of the polling location and the capacity at that location has not yet been reached, the capacity of this edge is also 1. Furthermore, each polling location node has an edge to the sink of cacacity C. In my algorithm, I loop over every voter at each polling location, ensuring that if an every voter has a chance to be assigned to each poll given that it meets the restraints of C and r.\n",
    "\n",
    " The resulting graph has the source connected to every voter node with capacity 1, voter nodes connected to polling location nodes with capacity 1, and polling location nodes connected to the sink with capacity C.\n",
    "\n",
    "The Ford-Fulkerson algorithm is then called on this graph, correctly returning the maximum flow. The maximum flow cam be interpreted as the number of voters that can be successfully assigned to polling locations. The reasoning is that let's assume there are k voters, if every voter can be assigned to a poll, then the graph will contain k capacity 1 edges between the voter nodes and the poll nodes, since during the construction of the graph no more than C voters are assigned to each poll, the bottleneck of this graph won't be the edges from the polls to the sink, but rather the k edges from the voters to the polls. If the maximum flow returned by the Ford-Fulkerson algorithm is equal to the number of voters (k), it means that every voter can be assigned to a polling location within r miles of their home, adhering to the constraint that no poll may exceed a capcity of C voters, and we return true. If not, we return false meaning the given constraints make it impossible for every voter to be assigned to a poll.\n",
    "\n",
    "Therefore, the algorithm correctly solves the problem.\n",
    "\n"
   ]
  },
  {
   "cell_type": "markdown",
   "metadata": {},
   "source": [
    "### Runtime"
   ]
  },
  {
   "cell_type": "markdown",
   "metadata": {},
   "source": [
    "The runtime for this algorithm can be thought of in two parts, the loop that iterates over each voter and polling location while constructing a graph, and finding the maximum flow of the resulting graph.\n",
    "\n",
    "In the worst case, each polling locations is connected to each voter so this first step has a time complexity of $O(mn)$.\n",
    "\n",
    "Finding the maximum flow can be achieved using the Ford-Fulkerson algorithm. Lets assume the method of finding augmenting paths is by using DFS, then the algorithm runs in $O(\\text{num edges} * \\text{max flow})$. In the worst case each polling location is connected to each voter so the number of edges is $mn$, the maximum flow is limited by $C$, the maximum number of voters allowed at a single location. With the maximum number of edges $mn$ and the maximum flow $C$, this step has a time complexity of $O(mnC)$.\n",
    "\n",
    "These steps are in sequence so the total runtime will be: $O(mn + mnC) \\rightarrow O(mnC)$\n"
   ]
  },
  {
   "cell_type": "markdown",
   "metadata": {},
   "source": [
    "## Problem 4\n"
   ]
  },
  {
   "cell_type": "markdown",
   "metadata": {},
   "source": [
    "### Algorithm"
   ]
  },
  {
   "cell_type": "code",
   "execution_count": null,
   "metadata": {},
   "outputs": [],
   "source": [
    "def minimizeMaxFlow(G, s, t, k):\n",
    "    # G: a graph representing a flow network\n",
    "    # s: source node\n",
    "    # t: sink node\n",
    "    # k: number of edges to delete\n",
    "    # return: G after deleting k edges such that its maximum flow is as small as possible\n",
    "    \n",
    "    # 1. Run F-F algo\n",
    "    maxFlow, residualGraph = fordFulkerson(G, s, t)\n",
    "\n",
    "    # 2. Make list from min-cut using residual graph. (max-flow min-cut theorem)\n",
    "    minCutEdges = findMinCutEdges(residualGraph, s, t)\n",
    "\n",
    "    # 3. remove k edges from this list.\n",
    "    for edge in minCutEdges:\n",
    "        if k > 0:\n",
    "            deleteEdge(edge, G)\n",
    "            k -= 1\n",
    "        else:\n",
    "            break\n",
    "\n",
    "    # 4. return G\n",
    "    return G\n",
    "\n",
    "# Helper functions\n",
    "def fordFulkerson(G, s, t):\n",
    "    # G: graph\n",
    "    # s: source\n",
    "    # t: sink\n",
    "\n",
    "    # runs in O(mnC)\n",
    "    # return: max flow, residual graph\n",
    "\n",
    "def findMinCutEdges(residualGraph, s):\n",
    "    # residualGraph: residual graph\n",
    "    # s: source\n",
    "    # t: sink\n",
    "    # return: list of edges in min cut\n",
    "\n",
    "    # find all nodes reachable from s in residualGraph\n",
    "    # find all nodes not reachable from s in residualGraph\n",
    "    # find all edges from reachable nodes to non-reachable nodes that are fully saturated\n",
    "    # (implement using DFS which is O(m+n))\n",
    "    # return this list\n",
    "\n",
    "def deleteEdge(edge, G):\n",
    "    # edge: an edge\n",
    "    # G: a graph\n",
    "    # return: None\n",
    "\n",
    "    # iterate over edges in G find e (O(m))\n",
    "    # delete e from G\n"
   ]
  },
  {
   "cell_type": "markdown",
   "metadata": {},
   "source": [
    "### Correctness"
   ]
  },
  {
   "cell_type": "markdown",
   "metadata": {},
   "source": [
    "From the max-flow min-cut theorem we know that the maximum s-t flow is equal to the capacity of the minimum cut. Therefore to reduce the maximum flow, we must remove edges that are part of the minimum cut. Since all the edges have capacity 1, it doesn't matter which order these edges are removed. Also, in the case that k is larger than the number of edges in the min-cut, removing all the edges will disconnect the graph and make the maximum-flow 0, in either case the max-flow is minimized. This algorithm uses Ford-Fulkerson, a well proven algorithm, to find the maximum flow and residual graph of G. It then identifies the edges in the min-cut by seeing the nodes reachable from s in the residual, nodes not reachable from s in the residual, and then finds all edges directly between these two sets that are fully saturated. By definition, these edges cross the cut. As stated above, by removing k of these edges from G (or until we cannot remove any more), we minimize tha maximum flow."
   ]
  },
  {
   "cell_type": "markdown",
   "metadata": {},
   "source": [
    "### Runtime"
   ]
  },
  {
   "cell_type": "markdown",
   "metadata": {},
   "source": [
    "The runtime of this algorith is $O(mn)$. This is because the highest cost step is running the Ford-Fulkerson algorithm which is known to be $O(mnC)$ but since $C=1$ this simplifies to $O(mn)$. findMinCuts most expensive piece is the DFS search, $O(m+n)$, and deleteEdge iterates over the edges of G which is $O(m)$.\n",
    "$$O(mn + m+n + m) \\rightarrow O(mn)$$"
   ]
  }
 ],
 "metadata": {
  "kernelspec": {
   "display_name": "Python 3",
   "language": "python",
   "name": "python3"
  },
  "language_info": {
   "codemirror_mode": {
    "name": "ipython",
    "version": 3
   },
   "file_extension": ".py",
   "mimetype": "text/x-python",
   "name": "python",
   "nbconvert_exporter": "python",
   "pygments_lexer": "ipython3",
   "version": "3.11.5"
  }
 },
 "nbformat": 4,
 "nbformat_minor": 2
}
