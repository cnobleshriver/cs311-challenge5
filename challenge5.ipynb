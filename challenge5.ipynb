{
 "cells": [
  {
   "cell_type": "markdown",
   "metadata": {},
   "source": [
    "# CS 311 Challenge Problems #5"
   ]
  },
  {
   "cell_type": "markdown",
   "metadata": {},
   "source": [
    "## Problem 1\n",
    "Pebbles Game. Two players play a game, starting with three piles of n pebbles each. Players\n",
    "alternate turns. On each turn, a player may do one of the following:\n",
    "- take one pebble from any pile\n",
    "- take two pebbles each from two different piles\n",
    "\n",
    "The player who takes the last pebble(s) wins the game.\n",
    "\n",
    "Write an algorithm that, given n, determines whether the first player can “force” a win. That is, can the\n",
    "first player choose moves such that, regardless of what the other player does, they will always win.\n",
    "In addition, write a procedure that tells a player which move (if any) they should make to force a win given\n",
    "the current triple of pebbles in each pile.\n",
    "What is the complexity of your solution?"
   ]
  },
  {
   "cell_type": "markdown",
   "metadata": {},
   "source": [
    "### Algorithm"
   ]
  },
  {
   "cell_type": "code",
   "execution_count": null,
   "metadata": {},
   "outputs": [],
   "source": []
  },
  {
   "cell_type": "markdown",
   "metadata": {},
   "source": [
    "### Correctness"
   ]
  },
  {
   "cell_type": "markdown",
   "metadata": {},
   "source": []
  },
  {
   "cell_type": "markdown",
   "metadata": {},
   "source": [
    "### Runtime"
   ]
  },
  {
   "cell_type": "markdown",
   "metadata": {},
   "source": []
  },
  {
   "cell_type": "markdown",
   "metadata": {},
   "source": [
    "## Problem 2"
   ]
  },
  {
   "cell_type": "markdown",
   "metadata": {},
   "source": [
    "### Algorithm"
   ]
  },
  {
   "cell_type": "code",
   "execution_count": null,
   "metadata": {},
   "outputs": [],
   "source": []
  },
  {
   "cell_type": "markdown",
   "metadata": {},
   "source": [
    "### Correctness"
   ]
  },
  {
   "cell_type": "markdown",
   "metadata": {},
   "source": []
  },
  {
   "cell_type": "markdown",
   "metadata": {},
   "source": [
    "### Runtime"
   ]
  },
  {
   "cell_type": "markdown",
   "metadata": {},
   "source": []
  },
  {
   "cell_type": "markdown",
   "metadata": {},
   "source": [
    "## Problem 3\n",
    "\n",
    "Polling Locations. Suppose n voters live in a town and there are k polling locations. We\n",
    "want to assign each voter to a polling location within r miles of their home (and we know the address of\n",
    "each voter and each polling location, so we can compute the distance from any voter’s home to any polling\n",
    "location). However, each polling location can accept at most C voters.\n",
    "\n",
    "Your goal is to design a polynomial-time algorithm for the following problem. Given the addresses of each\n",
    "voter and polling location as well as the range parameter r and capacity C of polling locations, decide\n",
    "whether every it is possible to match every voter to a polling location within r miles of their home such that\n",
    "each polling location is assigned at most C voters."
   ]
  },
  {
   "cell_type": "markdown",
   "metadata": {},
   "source": [
    "### Algorithm"
   ]
  },
  {
   "cell_type": "code",
   "execution_count": null,
   "metadata": {},
   "outputs": [],
   "source": [
    "def assignVoters(voters, pollingLocations, r, C):\n",
    "    # voters: list of voters\n",
    "    # pollingLocations: list of polling locations\n",
    "    # r: maximum distance a voter can travel\n",
    "    # C: maximum number of voters per polling location\n",
    "    # return: true or false, indicating whether everyone can be assigned to a polling location\n",
    "\n",
    "    # initialize a graph G with voters and polling locations as nodes\n",
    "\n",
    "    for voter in voters:\n",
    "        for poll in pollingLocations:\n",
    "            if distance(voter.address, poll.address) <= r:\n",
    "                # add an edge from voter to poll in G\n",
    "    \n",
    "    flowValue = # find maximum flow in G\n",
    "    return flowValue = len(voters)"
   ]
  },
  {
   "cell_type": "markdown",
   "metadata": {},
   "source": [
    "### Correctness"
   ]
  },
  {
   "cell_type": "markdown",
   "metadata": {},
   "source": []
  },
  {
   "cell_type": "markdown",
   "metadata": {},
   "source": [
    "### Runtime"
   ]
  },
  {
   "cell_type": "markdown",
   "metadata": {},
   "source": []
  },
  {
   "cell_type": "markdown",
   "metadata": {},
   "source": [
    "## Problem 4\n",
    "\n",
    "Network Flows (K&T Ch 7 Ex 12). You are given a flow network with unit-capacity edges:\n",
    "It consists of a directed graph G = (V, E), a source s ∈ V , and a sink t ∈ V ; and ce = 1 for every e ∈ E.\n",
    "You are also given a parameter k. The goal is to delete k edges so as to reduce the maximum s − t flow in\n",
    "G by as much as possible. In other words, you should find a set of edges F ⊂ E so that |F| = k and the\n",
    "maximum s − t flow in G = (V, E \\ F) is as small as possible subject to this. Give an efficient algorithm to\n",
    "solve this problem, argue it is correct, and state its running time."
   ]
  },
  {
   "cell_type": "markdown",
   "metadata": {},
   "source": [
    "### Algorithm"
   ]
  },
  {
   "cell_type": "code",
   "execution_count": null,
   "metadata": {},
   "outputs": [],
   "source": []
  },
  {
   "cell_type": "markdown",
   "metadata": {},
   "source": [
    "### Correctness"
   ]
  },
  {
   "cell_type": "markdown",
   "metadata": {},
   "source": []
  },
  {
   "cell_type": "markdown",
   "metadata": {},
   "source": [
    "### Runtime"
   ]
  },
  {
   "cell_type": "markdown",
   "metadata": {},
   "source": []
  }
 ],
 "metadata": {
  "language_info": {
   "name": "python"
  }
 },
 "nbformat": 4,
 "nbformat_minor": 2
}
