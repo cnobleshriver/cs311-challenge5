{
 "cells": [
  {
   "cell_type": "markdown",
   "metadata": {},
   "source": [
    "# CS 311 Challenge Problems #5"
   ]
  },
  {
   "cell_type": "markdown",
   "metadata": {},
   "source": [
    "## Problem 1\n",
    "Pebbles Game. Two players play a game, starting with three piles of n pebbles each. Players\n",
    "alternate turns. On each turn, a player may do one of the following:\n",
    "- take one pebble from any pile\n",
    "- take two pebbles each from two different piles\n",
    "\n",
    "The player who takes the last pebble(s) wins the game.\n",
    "\n",
    "Write an algorithm that, given n, determines whether the first player can “force” a win. That is, can the\n",
    "first player choose moves such that, regardless of what the other player does, they will always win.\n",
    "In addition, write a procedure that tells a player which move (if any) they should make to force a win given\n",
    "the current triple of pebbles in each pile.\n",
    "What is the complexity of your solution?"
   ]
  },
  {
   "cell_type": "markdown",
   "metadata": {},
   "source": [
    "### Algorithm"
   ]
  },
  {
   "cell_type": "code",
   "execution_count": null,
   "metadata": {},
   "outputs": [],
   "source": []
  },
  {
   "cell_type": "markdown",
   "metadata": {},
   "source": [
    "### Correctness"
   ]
  },
  {
   "cell_type": "markdown",
   "metadata": {},
   "source": []
  },
  {
   "cell_type": "markdown",
   "metadata": {},
   "source": [
    "### Runtime"
   ]
  },
  {
   "cell_type": "markdown",
   "metadata": {},
   "source": []
  },
  {
   "cell_type": "markdown",
   "metadata": {},
   "source": [
    "## Problem 2"
   ]
  },
  {
   "cell_type": "markdown",
   "metadata": {},
   "source": [
    "### Algorithm"
   ]
  },
  {
   "cell_type": "code",
   "execution_count": null,
   "metadata": {},
   "outputs": [],
   "source": []
  },
  {
   "cell_type": "markdown",
   "metadata": {},
   "source": [
    "### Correctness"
   ]
  },
  {
   "cell_type": "markdown",
   "metadata": {},
   "source": []
  },
  {
   "cell_type": "markdown",
   "metadata": {},
   "source": [
    "### Runtime"
   ]
  },
  {
   "cell_type": "markdown",
   "metadata": {},
   "source": []
  },
  {
   "cell_type": "markdown",
   "metadata": {},
   "source": [
    "## Problem 3"
   ]
  },
  {
   "cell_type": "markdown",
   "metadata": {},
   "source": [
    "### Algorithm"
   ]
  },
  {
   "cell_type": "code",
   "execution_count": null,
   "metadata": {},
   "outputs": [],
   "source": [
    "def assignVoters(voters, pollingLocations, r, C):\n",
    "    # voters: list of voters\n",
    "    # pollingLocations: list of polling locations\n",
    "    # r: maximum distance a voter can travel\n",
    "    # C: maximum number of voters per polling location\n",
    "    # return: true or false, indicating whether everyone can be assigned to a polling location\n",
    "\n",
    "    s = # initialize a source\n",
    "    t = # initialize a sink\n",
    "    G = # initialize a graph G with voters and polling locations as nodes, source s and sink t\n",
    "\n",
    "    for voter in voters:\n",
    "        # add an edge from the source to voter in G with capacity 1\n",
    "        for poll in pollingLocations:\n",
    "            # add an edge from poll to the sink in G with capacity C\n",
    "            if distance(voter, poll) <= r and numVoters(poll) < C:\n",
    "                constructEdge(voter, poll, G)\n",
    "    \n",
    "    flowValue = fordFulkerson(G, s, t)\n",
    "    return flowValue == len(voters)\n",
    "\n",
    "\n",
    "# Helper functions\n",
    "def distance(voter, poll):\n",
    "    # voter: a voter\n",
    "    # poll: a polling location\n",
    "    # return: the distance between the voter and the polling location\n",
    "\n",
    "def numVoters(poll):\n",
    "    # poll: a polling location\n",
    "    # return: the number of voters currently assigned to the polling location\n",
    "\n",
    "def constructEdge(voter, poll, G):\n",
    "    # voter: a voter\n",
    "    # poll: a polling location\n",
    "    # G: a graph\n",
    "    # return: None\n",
    "\n",
    "    # add an edge from voter to poll in G and increment capacity by 1\n",
    "\n",
    "def fordFulkerson(G, s ,t):\n",
    "    # G: a graph\n",
    "    # s: source\n",
    "    # t: sink\n",
    "    # return: the maximum flow in G"
   ]
  },
  {
   "cell_type": "markdown",
   "metadata": {},
   "source": [
    "### Correctness"
   ]
  },
  {
   "cell_type": "markdown",
   "metadata": {},
   "source": [
    "We will prove this algorithm by showing how the problem can be modeled as a maximum flow problem, and it is known that the Ford-Fulkerson algorithm correctly solves maximum flow problems.\n",
    "\n",
    "We model the problem by creating a bipartite graph, where we have two sets of nodes, voters and polling locations. The source has an edge of capacity 1 to all voters. We create an edge between a voter and a polling location if the voter is within r units of the polling location and the capacity at that location has not yet been reached, the capacity of this edge is also 1. Furthermore, each polling location node has an edge to the sink of cacacity C. In my algorithm, I loop over every voter at each polling location, ensuring that if an every voter has a chance to be assigned to each poll given that it meets the restraints of C and r.\n",
    "\n",
    " The resulting graph has the source connected to every voter node with capacity 1, voter nodes connected to polling location nodes with capacity 1, and polling location nodes connected to the sink with capacity C.\n",
    "\n",
    "The Ford-Fulkerson algorithm is then called on this graph, correctly returning the maximum flow. The maximum flow cam be interpreted as the number of voters that can be successfully assigned to polling locations. The reasoning is that let's assume there are k voters, if every voter can be assigned to a poll, then the graph will contain k capacity 1 edges between the voter nodes and the poll nodes, since during the construction of the graph no more than C voters are assigned to each poll, the bottleneck of this graph won't be the edges from the polls to the sink, but rather the k edges from the voters to the polls. If the maximum flow returned by the Ford-Fulkerson algorithm is equal to the number of voters (k), it means that every voter can be assigned to a polling location within r miles of their home, adhering to the constraint that no poll may exceed a capcity of C voters, and we return true. If not, we return false meaning the given constraints make it impossible for every voter to be assigned to a poll.\n",
    "\n",
    "Therefore, the algorithm correctly solves the problem.\n",
    "\n"
   ]
  },
  {
   "cell_type": "markdown",
   "metadata": {},
   "source": [
    "### Runtime"
   ]
  },
  {
   "cell_type": "markdown",
   "metadata": {},
   "source": [
    "The runtime for this algorithm can be thought of in two parts, the loop that iterates over each voter and polling location while constructing a graph, and finding the maximum flow of the resulting graph.\n",
    "\n",
    "In the worst case, each polling locations is connected to each voter so this first step has a time complexity of $O(mn)$.\n",
    "\n",
    "Finding the maximum flow can be achieved using the Ford-Fulkerson algorithm. Lets assume the method of finding augmenting paths is by using DFS, then the algorithm runs in $O(\\text{num edges} * \\text{max flow})$. In the worst case each polling location is connected to each voter so the number of edges is $mn$, the maximum flow is limited by $C$, the maximum number of voters allowed at a single location. With the maximum number of edges $mn$ and the maximum flow $C$, this step has a time complexity of $O(mnC)$.\n",
    "\n",
    "These steps are in sequence so the total runtime will be: $ O(mn + mnC) \\rightarrow O(mnC) $\n"
   ]
  },
  {
   "cell_type": "markdown",
   "metadata": {},
   "source": [
    "## Problem 4\n",
    "\n",
    "Network Flows (K&T Ch 7 Ex 12). You are given a flow network with unit-capacity edges:\n",
    "It consists of a directed graph G = (V, E), a source s ∈ V , and a sink t ∈ V ; and ce = 1 for every e ∈ E.\n",
    "You are also given a parameter k. The goal is to delete k edges so as to reduce the maximum s − t flow in\n",
    "G by as much as possible. In other words, you should find a set of edges F ⊂ E so that |F| = k and the\n",
    "maximum s − t flow in G = (V, E \\ F) is as small as possible subject to this. Give an efficient algorithm to\n",
    "solve this problem, argue it is correct, and state its running time."
   ]
  },
  {
   "cell_type": "markdown",
   "metadata": {},
   "source": [
    "### Algorithm"
   ]
  },
  {
   "cell_type": "code",
   "execution_count": null,
   "metadata": {},
   "outputs": [],
   "source": [
    "def minimizeMaxFlow(G, s, t, k):\n",
    "    # G: a graph representing a flow network\n",
    "    # s: source node\n",
    "    # t: sink node\n",
    "    # k: number of edges to delete\n",
    "    # return: G after deleting k edges such that its maximum flow is as small as possible\n",
    "    \n",
    "    # 1. Run F-F algo\n",
    "    # 2. Make list from min-cut using residual graph. (max-flow min-cut theorem)\n",
    "    # 3. remove k edges from this list."
   ]
  },
  {
   "cell_type": "markdown",
   "metadata": {},
   "source": [
    "### Correctness"
   ]
  },
  {
   "cell_type": "markdown",
   "metadata": {},
   "source": []
  },
  {
   "cell_type": "markdown",
   "metadata": {},
   "source": [
    "### Runtime"
   ]
  },
  {
   "cell_type": "code",
   "execution_count": null,
   "metadata": {},
   "outputs": [],
   "source": []
  }
 ],
 "metadata": {
  "language_info": {
   "name": "python"
  }
 },
 "nbformat": 4,
 "nbformat_minor": 2
}
